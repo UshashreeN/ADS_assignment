{
 "cells": [
  {
   "cell_type": "markdown",
   "id": "2a5598f1-807e-48d9-a546-dea764b31dae",
   "metadata": {},
   "source": [
    "## Named Entity Recognition"
   ]
  },
  {
   "cell_type": "code",
   "execution_count": 1,
   "id": "b51ffd6c-cc62-4964-9e0b-ae01ec6de4a1",
   "metadata": {},
   "outputs": [
    {
     "name": "stderr",
     "output_type": "stream",
     "text": [
      "[nltk_data] Downloading package punkt to\n",
      "[nltk_data]     C:\\Users\\pc\\AppData\\Roaming\\nltk_data...\n",
      "[nltk_data]   Package punkt is already up-to-date!\n",
      "[nltk_data] Downloading package stopwords to\n",
      "[nltk_data]     C:\\Users\\pc\\AppData\\Roaming\\nltk_data...\n",
      "[nltk_data]   Package stopwords is already up-to-date!\n"
     ]
    },
    {
     "data": {
      "text/plain": [
       "True"
      ]
     },
     "execution_count": 1,
     "metadata": {},
     "output_type": "execute_result"
    }
   ],
   "source": [
    "import nltk\n",
    "from nltk.corpus import stopwords\n",
    "from nltk.tokenize import word_tokenize, sent_tokenize\n",
    "from nltk import pos_tag, ne_chunk\n",
    "import string\n",
    "nltk.download('punkt')\n",
    "nltk.download('stopwords')"
   ]
  },
  {
   "cell_type": "code",
   "execution_count": 2,
   "id": "2e1f44fa-964e-4a12-b76f-28ed44b1f22c",
   "metadata": {},
   "outputs": [],
   "source": [
    "stop_words = set(stopwords.words('english'))"
   ]
  },
  {
   "cell_type": "code",
   "execution_count": 3,
   "id": "f20dc605-475a-4309-99e6-7d6d44d29fa6",
   "metadata": {},
   "outputs": [],
   "source": [
    "def extract_entities(entities):\n",
    "    named_entities = []\n",
    "    for subtree in entities:\n",
    "        if isinstance(subtree, nltk.Tree):\n",
    "            entity = \" \".join([token for token, tag in subtree.leaves()])\n",
    "            label = subtree.label()\n",
    "            named_entities.append((entity, label))\n",
    "    \n",
    "    return named_entities"
   ]
  },
  {
   "cell_type": "code",
   "execution_count": 4,
   "id": "9d13b6bc-e95c-452d-aa7e-0494d7f8d85e",
   "metadata": {},
   "outputs": [],
   "source": [
    "def write_entities_to_file(named_entities, output_file):\n",
    "    with open(output_file, 'w') as file:\n",
    "        for entity, label in named_entities:\n",
    "            file.write(f\"{entity} : {label}\\n\")\n"
   ]
  },
  {
   "cell_type": "code",
   "execution_count": 5,
   "id": "f6b8ac8e-f8f9-451f-94ec-e78e6ec49f47",
   "metadata": {},
   "outputs": [
    {
     "name": "stdout",
     "output_type": "stream",
     "text": [
      "\n",
      "Named Entities:\n",
      "[('NLP', 'ORGANIZATION'), ('NLP', 'ORGANIZATION'), ('Siri', 'PERSON'), ('Alexa', 'PERSON'), ('Google', 'PERSON'), ('NLP', 'ORGANIZATION'), ('NER', 'ORGANIZATION'), ('Steve Jobs', 'PERSON'), ('Apple Inc.', 'ORGANIZATION'), ('Cupertino', 'GPE'), ('California', 'GPE'), ('NER', 'ORGANIZATION'), ('Steve Jobs', 'PERSON'), ('Apple', 'PERSON'), ('California', 'GPE'), ('NER', 'ORGANIZATION'), ('CRFs', 'ORGANIZATION'), ('RNNs', 'ORGANIZATION'), ('NER', 'ORGANIZATION'), ('NLP', 'ORGANIZATION'), ('NLP', 'ORGANIZATION')]\n",
      "\n",
      "Output written to: C:\\Users\\pc\\Downloads\\ADS Lab programs\\output.txt\n"
     ]
    }
   ],
   "source": [
    "def main(input_file, output_file):\n",
    "    with open(input_file, 'r') as file:\n",
    "        text = file.read()\n",
    "        \n",
    "    tokens = word_tokenize(text)\n",
    "\n",
    "    tagged_tokens = pos_tag(tokens)\n",
    "\n",
    "    entities = ne_chunk(tagged_tokens)\n",
    "    named_entities = extract_entities(entities)\n",
    "    \n",
    "    print(\"\\nNamed Entities:\")\n",
    "    print(named_entities)\n",
    "    \n",
    "    write_entities_to_file(named_entities, output_file)\n",
    "    \n",
    "    print(\"\\nOutput written to:\", output_file)\n",
    "\n",
    "if __name__ == \"__main__\":\n",
    "    input_file = r\"C:\\Users\\pc\\Downloads\\ADS Lab programs\\input.txt\"  \n",
    "    output_file = r\"C:\\Users\\pc\\Downloads\\ADS Lab programs\\output.txt\" \n",
    "    main(input_file, output_file)"
   ]
  },
  {
   "cell_type": "code",
   "execution_count": null,
   "id": "a3d2dbf9-d496-4f71-9a85-164f809ccc39",
   "metadata": {},
   "outputs": [],
   "source": []
  }
 ],
 "metadata": {
  "kernelspec": {
   "display_name": "Python 3 (ipykernel)",
   "language": "python",
   "name": "python3"
  },
  "language_info": {
   "codemirror_mode": {
    "name": "ipython",
    "version": 3
   },
   "file_extension": ".py",
   "mimetype": "text/x-python",
   "name": "python",
   "nbconvert_exporter": "python",
   "pygments_lexer": "ipython3",
   "version": "3.11.5"
  }
 },
 "nbformat": 4,
 "nbformat_minor": 5
}
